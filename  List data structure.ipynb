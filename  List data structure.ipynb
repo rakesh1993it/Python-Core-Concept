{
 "cells": [
  {
   "cell_type": "markdown",
   "metadata": {},
   "source": [
    "# Implementation of List:\n",
    "    \n",
    "    1 Create Python Lists\n",
    "    2 Mutable Lists\n",
    "    3 Traverse a List\n",
    "    4 Slice a List\n",
    "    5 Insert Into a List\n",
    "    6 Append to a List\n",
    "    7 Sort a List\n",
    "    8 Reverse a List\n",
    "    9 Delete an Element\n",
    "    10 Aggregate Functions\n",
    "    11 Compare Lists\n",
    "    12 Math Operations On Lists\n",
    "    13 Lists and Strings\n",
    "    14 Join a List\n",
    "    15 Aliasing"
   ]
  },
  {
   "cell_type": "markdown",
   "metadata": {},
   "source": [
    "# 1.Create Python List"
   ]
  },
  {
   "cell_type": "code",
   "execution_count": 2,
   "metadata": {},
   "outputs": [
    {
     "name": "stdout",
     "output_type": "stream",
     "text": [
      "[1, 2, 3, 4, 5]\n"
     ]
    }
   ],
   "source": [
    "mylist =[1, 2, 3, 4, 5]\n",
    "print(mylist)"
   ]
  },
  {
   "cell_type": "code",
   "execution_count": 3,
   "metadata": {},
   "outputs": [
    {
     "name": "stdout",
     "output_type": "stream",
     "text": [
      "['one', 'two', 'three', 'four']\n"
     ]
    }
   ],
   "source": [
    "mylist1 = ['one', 'two', 'three', 'four']\n",
    "print(mylist1)"
   ]
  },
  {
   "cell_type": "code",
   "execution_count": 4,
   "metadata": {},
   "outputs": [
    {
     "name": "stdout",
     "output_type": "stream",
     "text": [
      "[1, 2, 3, 4, 5, 'one', 'two', 'three', 'four']\n"
     ]
    }
   ],
   "source": [
    "# Add  the above two list\n",
    "mylist2 = mylist + mylist1\n",
    "print(mylist2)"
   ]
  },
  {
   "cell_type": "markdown",
   "metadata": {},
   "source": [
    "# 2.Mutable Lists\n",
    "\n",
    "Lists are mutable because items can be changed or reordered."
   ]
  },
  {
   "cell_type": "code",
   "execution_count": 11,
   "metadata": {},
   "outputs": [
    {
     "name": "stdout",
     "output_type": "stream",
     "text": [
      "['one', 'two', 'three', 'four', ' five']\n",
      "['one', 'two', 'mango', 'four', ' five']\n"
     ]
    }
   ],
   "source": [
    "newlist =['one','two', 'three','four',' five']\n",
    "print(newlist)\n",
    "\n",
    "#we can chnage the third item like this.\n",
    "newlist[2] = 'mango'\n",
    "\n",
    "print(newlist)"
   ]
  },
  {
   "cell_type": "raw",
   "metadata": {},
   "source": [
    "If the index is a negative number, it counts from the last element."
   ]
  },
  {
   "cell_type": "code",
   "execution_count": 12,
   "metadata": {},
   "outputs": [
    {
     "name": "stdout",
     "output_type": "stream",
     "text": [
      "five\n"
     ]
    }
   ],
   "source": [
    "mylist = ['one', 'two', 'three', 'four', 'five']\n",
    " \n",
    "elem = mylist[-1]\n",
    " \n",
    "print(elem)"
   ]
  },
  {
   "cell_type": "code",
   "execution_count": 15,
   "metadata": {},
   "outputs": [
    {
     "name": "stdout",
     "output_type": "stream",
     "text": [
      "the length of the list\n",
      "5\n"
     ]
    }
   ],
   "source": [
    "#find length of the list.\n",
    "print('the length of the list')\n",
    "print(len(mylist))"
   ]
  },
  {
   "cell_type": "markdown",
   "metadata": {},
   "source": [
    "# 3.Traverse a List"
   ]
  },
  {
   "cell_type": "code",
   "execution_count": 16,
   "metadata": {},
   "outputs": [
    {
     "name": "stdout",
     "output_type": "stream",
     "text": [
      "one\n",
      "two\n",
      "three\n",
      "four\n",
      "five\n"
     ]
    }
   ],
   "source": [
    "mylist = ['one','two','three','four','five']\n",
    "\n",
    "for ele in mylist:\n",
    "    print(ele)"
   ]
  },
  {
   "cell_type": "code",
   "execution_count": 17,
   "metadata": {},
   "outputs": [
    {
     "name": "stdout",
     "output_type": "stream",
     "text": [
      "[6, 7, 8, 9, 10]\n"
     ]
    }
   ],
   "source": [
    "# add 5 all the element of the list\n",
    "\n",
    "mylist =[1,2,3,4,5]\n",
    "for i in range(len(mylist)):\n",
    "    mylist[i]+=5\n",
    "    \n",
    "print(mylist) "
   ]
  },
  {
   "cell_type": "raw",
   "metadata": {},
   "source": [
    "The len() function is used to return the elements count, while the range() function returns the list of indices.\n",
    "Keep in mind that, the nested list considered one element, regardless of how many elements inside it."
   ]
  },
  {
   "cell_type": "code",
   "execution_count": 18,
   "metadata": {},
   "outputs": [
    {
     "name": "stdout",
     "output_type": "stream",
     "text": [
      "5\n"
     ]
    }
   ],
   "source": [
    "mylist = ['one', 20 , 5.5 , [10, 15], 'five']\n",
    " \n",
    "print(len(mylist))"
   ]
  },
  {
   "cell_type": "markdown",
   "metadata": {},
   "source": [
    "# 4.Slice a List"
   ]
  },
  {
   "cell_type": "markdown",
   "metadata": {},
   "source": [
    "You can slice a list using \n",
    "If you remove the first number, the items start from the beginning. If you remove the second number, the items go to the end.\n",
    "\n",
    "If you remove both numbers and remain the colon, the list will be copied.\n"
   ]
  },
  {
   "cell_type": "code",
   "execution_count": 26,
   "metadata": {},
   "outputs": [
    {
     "name": "stdout",
     "output_type": "stream",
     "text": [
      "['two', 'three']\n"
     ]
    }
   ],
   "source": [
    "mylist = ['one', 'two', 'three', 'four', 'five']\n",
    " \n",
    "print(mylist[1:3])"
   ]
  },
  {
   "cell_type": "code",
   "execution_count": 19,
   "metadata": {},
   "outputs": [
    {
     "name": "stdout",
     "output_type": "stream",
     "text": [
      "['two', 'three']\n",
      "['two', 'three', 'four', 'five']\n",
      "['one', 'two', 'three']\n",
      "['one', 'two', 'three', 'four', 'five']\n"
     ]
    }
   ],
   "source": [
    "mylist = ['one', 'two', 'three', 'four', 'five']\n",
    " \n",
    "print(mylist[1:3])\n",
    " \n",
    "print(mylist[1:])\n",
    " \n",
    "print(mylist[:3])\n",
    " \n",
    "print(mylist[:])"
   ]
  },
  {
   "cell_type": "raw",
   "metadata": {},
   "source": [
    "Since lists are mutable, you can change elements using the slice operator"
   ]
  },
  {
   "cell_type": "code",
   "execution_count": 27,
   "metadata": {},
   "outputs": [
    {
     "name": "stdout",
     "output_type": "stream",
     "text": [
      "['one', 'Hello', 'Guys', 'four', 'five']\n"
     ]
    }
   ],
   "source": [
    "mylist = ['one', 'two', 'three', 'four', 'five']\n",
    " \n",
    "mylist[1:3] = ['Hello', 'Guys']\n",
    " \n",
    "print(mylist)"
   ]
  },
  {
   "cell_type": "markdown",
   "metadata": {},
   "source": [
    "# 5.Insert Into a List"
   ]
  },
  {
   "cell_type": "code",
   "execution_count": 28,
   "metadata": {},
   "outputs": [
    {
     "name": "stdout",
     "output_type": "stream",
     "text": [
      "[1, 'Hello', 2, 3, 4, 5]\n"
     ]
    }
   ],
   "source": [
    "#You can use the insert method to insert an element to the list like this:\n",
    "\n",
    "mylist = [1, 2, 3, 4, 5]\n",
    " \n",
    "mylist.insert(1,'Hello')\n",
    " \n",
    "print(mylist)"
   ]
  },
  {
   "cell_type": "markdown",
   "metadata": {},
   "source": [
    "# 6.Append to a List"
   ]
  },
  {
   "cell_type": "code",
   "execution_count": 29,
   "metadata": {},
   "outputs": [
    {
     "name": "stdout",
     "output_type": "stream",
     "text": [
      "['one', 'two', 'three', 'four', 'five', 'new one']\n"
     ]
    }
   ],
   "source": [
    "mylist = ['one', 'two', 'three', 'four', 'five']\n",
    "\n",
    "mylist.append('new one')\n",
    "print(mylist)\n"
   ]
  },
  {
   "cell_type": "raw",
   "metadata": {},
   "source": [
    " You can append more than one element using extend method like this"
   ]
  },
  {
   "cell_type": "code",
   "execution_count": 31,
   "metadata": {},
   "outputs": [
    {
     "name": "stdout",
     "output_type": "stream",
     "text": [
      "['one', 'two', 'three', 'four', 'five', 'hi', 'rakesh']\n"
     ]
    }
   ],
   "source": [
    "mylist = ['one', 'two','three','four', 'five']\n",
    "newlist = ['hi', 'rakesh']\n",
    "mylist.extend(newlist)\n",
    "print(mylist)"
   ]
  },
  {
   "cell_type": "code",
   "execution_count": null,
   "metadata": {
    "collapsed": true
   },
   "outputs": [],
   "source": []
  },
  {
   "cell_type": "markdown",
   "metadata": {},
   "source": [
    "# 7.Sort a List"
   ]
  },
  {
   "cell_type": "code",
   "execution_count": 36,
   "metadata": {},
   "outputs": [
    {
     "name": "stdout",
     "output_type": "stream",
     "text": [
      "['abc', 'def', 'ghi', 'jkl', 'mnop']\n",
      "[1, 2, 3, 4, 4, 7, 8]\n"
     ]
    }
   ],
   "source": [
    "# to sort the list , use sort method\n",
    "mylist = ['def','ghi', 'abc','jkl', 'mnop']\n",
    "\n",
    "list2 = [4,7,8,4,2,1,3]\n",
    "\n",
    "mylist.sort()\n",
    "list2.sort()\n",
    "\n",
    "print(mylist)\n",
    "print(list2)"
   ]
  },
  {
   "cell_type": "markdown",
   "metadata": {},
   "source": [
    "# 8.Reverse the list"
   ]
  },
  {
   "cell_type": "code",
   "execution_count": 37,
   "metadata": {},
   "outputs": [
    {
     "name": "stdout",
     "output_type": "stream",
     "text": [
      "[1, 3, 5, 6, 7, 8, 9, 11]\n",
      "After reverse the list:\n",
      "[11, 9, 8, 7, 6, 5, 3, 1]\n"
     ]
    }
   ],
   "source": [
    "# To reverse the list we have to use reverse method\n",
    "\n",
    "mylist = [1,3,5,6,7,8,9,11]\n",
    "print(mylist)\n",
    "mylist.reverse()\n",
    "print('After reverse the list:')\n",
    "print(mylist)"
   ]
  },
  {
   "cell_type": "markdown",
   "metadata": {},
   "source": [
    "# 9.Delete of an element\n",
    "\n",
    "You can delete an element by specifying the element index to the pop method like this:"
   ]
  },
  {
   "cell_type": "code",
   "execution_count": 45,
   "metadata": {},
   "outputs": [
    {
     "name": "stdout",
     "output_type": "stream",
     "text": [
      "['one', 'two', 'three', 'four', 'five']\n",
      "after delete the list:\n",
      "['one', 'two', 'four', 'five']\n"
     ]
    }
   ],
   "source": [
    "mylist = ['one', 'two', 'three', 'four', 'five']\n",
    "print(mylist)\n",
    "mylist.pop(2)\n",
    "print('after delete the list:')\n",
    "print(mylist)"
   ]
  },
  {
   "cell_type": "raw",
   "metadata": {},
   "source": [
    " we can also delete the list useing remove method"
   ]
  },
  {
   "cell_type": "code",
   "execution_count": 47,
   "metadata": {},
   "outputs": [
    {
     "name": "stdout",
     "output_type": "stream",
     "text": [
      "['one', 'two', 'three', 'four', 'five']\n",
      "after delete the list:\n",
      "['one', 'three', 'four', 'five']\n"
     ]
    }
   ],
   "source": [
    "mylist = ['one', 'two', 'three', 'four', 'five']\n",
    "print(mylist)\n",
    "mylist.remove('two')\n",
    "print('after delete the list:')\n",
    "print(mylist)"
   ]
  },
  {
   "cell_type": "raw",
   "metadata": {},
   "source": [
    "# You can use the del operator to remove an element like this"
   ]
  },
  {
   "cell_type": "code",
   "execution_count": 49,
   "metadata": {},
   "outputs": [
    {
     "name": "stdout",
     "output_type": "stream",
     "text": [
      "['one', 'two', 'three', 'four', 'five']\n",
      "after delete the list:\n",
      "['one', 'two', 'three', 'five']\n"
     ]
    }
   ],
   "source": [
    "mylist = ['one', 'two', 'three', 'four', 'five']\n",
    "print(mylist)\n",
    "del mylist[3]\n",
    "print('after delete the list:')\n",
    "print(mylist)"
   ]
  },
  {
   "cell_type": "code",
   "execution_count": 50,
   "metadata": {},
   "outputs": [
    {
     "name": "stdout",
     "output_type": "stream",
     "text": [
      "['one', 'two', 'three', 'four', 'five']\n",
      "after delete the list:\n",
      "['one', 'four', 'five']\n"
     ]
    }
   ],
   "source": [
    "# Also, you can delete multiple elements using slice operator like this\n",
    "\n",
    "mylist = ['one', 'two', 'three', 'four', 'five']\n",
    "print(mylist)\n",
    "del mylist[1:3]\n",
    "print('after delete the list:')\n",
    "print(mylist)"
   ]
  },
  {
   "cell_type": "markdown",
   "metadata": {},
   "source": [
    "# 10.Aggregate Functions"
   ]
  },
  {
   "cell_type": "code",
   "execution_count": 52,
   "metadata": {},
   "outputs": [
    {
     "name": "stdout",
     "output_type": "stream",
     "text": [
      "Max value of the list\n",
      "34\n",
      "Length value of the list\n",
      "9\n",
      "Min value of the list\n",
      "1\n",
      "Sum value of the list\n",
      "105\n"
     ]
    }
   ],
   "source": [
    "# we can find max, min, len, sum etc\n",
    "\n",
    "mylist = [1,4,5,7,8,11,12,23,34]\n",
    "print('Max value of the list')\n",
    "print(max(mylist))\n",
    "\n",
    "print('Length value of the list')\n",
    "print(len(mylist))\n",
    "\n",
    "print('Min value of the list')\n",
    "print(min(mylist))\n",
    "\n",
    "print('Sum value of the list')\n",
    "print(sum(mylist))"
   ]
  },
  {
   "cell_type": "code",
   "execution_count": null,
   "metadata": {
    "collapsed": true
   },
   "outputs": [],
   "source": []
  },
  {
   "cell_type": "markdown",
   "metadata": {},
   "source": [
    "# 11. Compare the list\n",
    "\n",
    "you can compare elements of two lists:"
   ]
  },
  {
   "cell_type": "code",
   "execution_count": 56,
   "metadata": {},
   "outputs": [
    {
     "name": "stdout",
     "output_type": "stream",
     "text": [
      "No match\n"
     ]
    }
   ],
   "source": [
    "\n",
    "mylist = ['one', 'two', 'three', 'four', 'five']\n",
    " \n",
    "list2 = ['four', 'one', 'two', 'five', 'three']\n",
    " \n",
    "if (mylist == list2):\n",
    " \n",
    "    print(\"match\")\n",
    " \n",
    "else:\n",
    " \n",
    "    print(\"No match\")"
   ]
  },
  {
   "cell_type": "markdown",
   "metadata": {},
   "source": [
    "# 12.Math Operations On Lists"
   ]
  },
  {
   "cell_type": "code",
   "execution_count": 57,
   "metadata": {},
   "outputs": [
    {
     "name": "stdout",
     "output_type": "stream",
     "text": [
      "[1, 2, 3, 4, 5, 6, 7, 8]\n"
     ]
    }
   ],
   "source": [
    "list1 = [1,2,3,4]\n",
    "list2 = [5,6,7,8]\n",
    "\n",
    "list3 = list1 + list2\n",
    "\n",
    "print(list3)"
   ]
  },
  {
   "cell_type": "code",
   "execution_count": 59,
   "metadata": {},
   "outputs": [
    {
     "name": "stdout",
     "output_type": "stream",
     "text": [
      "[1, 2, 3, 4, 1, 2, 3, 4]\n"
     ]
    }
   ],
   "source": [
    "list1 = [1,2,3,4]\n",
    "list2 = [5,6,7,8]\n",
    "\n",
    "print(list1 * 2)\n"
   ]
  },
  {
   "cell_type": "markdown",
   "metadata": {},
   "source": [
    "# Lists and Strings\n",
    "\n",
    "To convert a string to separate characters, you can use the list function like this:"
   ]
  },
  {
   "cell_type": "code",
   "execution_count": 62,
   "metadata": {},
   "outputs": [
    {
     "name": "stdout",
     "output_type": "stream",
     "text": [
      "['R', 'k', 'a', 'e', 's', 'h', 'M', 'a', 'j', 'u', 'm', 'd', 'e', 'r']\n"
     ]
    }
   ],
   "source": [
    "mystr = 'RkaeshMajumder'\n",
    "\n",
    "mylist = list(mystr)\n",
    "print(mylist)"
   ]
  },
  {
   "cell_type": "raw",
   "metadata": {},
   "source": [
    "The list function is used to break a string into single letters as shown.\n",
    "\n",
    "You can use the split method to split the text into words like this:"
   ]
  },
  {
   "cell_type": "code",
   "execution_count": 64,
   "metadata": {},
   "outputs": [
    {
     "name": "stdout",
     "output_type": "stream",
     "text": [
      "['Welcome', 'to', 'pyhton', 'world']\n"
     ]
    }
   ],
   "source": [
    "mystr = ' Welcome to pyhton world'\n",
    "\n",
    "myword = mystr.split()\n",
    "print(myword)"
   ]
  },
  {
   "cell_type": "code",
   "execution_count": 66,
   "metadata": {},
   "outputs": [
    {
     "name": "stdout",
     "output_type": "stream",
     "text": [
      "['Welcome', 'to', 'python', 'world']\n"
     ]
    }
   ],
   "source": [
    "# you can also split the string like this.\n",
    "mystr = \"Welcome-to-python-world\"\n",
    " \n",
    "mylist = mystr.split('-')\n",
    " \n",
    "print(mylist)"
   ]
  },
  {
   "cell_type": "markdown",
   "metadata": {},
   "source": [
    "\n",
    "\n",
    "# Join a List\n",
    "\n",
    "The opposite process of splitting a string to a list of strings is to join them to make a string.\n",
    "\n",
    "You join list elements to make one string using the join method like this:"
   ]
  },
  {
   "cell_type": "code",
   "execution_count": 69,
   "metadata": {},
   "outputs": [
    {
     "name": "stdout",
     "output_type": "stream",
     "text": [
      "Welcometopythonworld\n"
     ]
    }
   ],
   "source": [
    "myword = ['Welcome', 'to', 'python', 'world']\n",
    "delimiter = ''\n",
    "mystr = delimiter.join(myword)\n",
    "\n",
    "print(mystr)"
   ]
  },
  {
   "cell_type": "markdown",
   "metadata": {},
   "source": [
    "# Aliasing\n",
    "\n",
    "When two variables referencing the same object like this:"
   ]
  },
  {
   "cell_type": "code",
   "execution_count": 71,
   "metadata": {},
   "outputs": [
    {
     "name": "stdout",
     "output_type": "stream",
     "text": [
      "['Welcome', 'to', 'python', 'page']\n"
     ]
    }
   ],
   "source": [
    "\n",
    "mylist = ['Welcome', 'to', 'python', 'world']\n",
    " \n",
    "list2 = mylist\n",
    " \n",
    "list2[3] = \"page\"\n",
    " \n",
    "print(mylist)"
   ]
  },
  {
   "cell_type": "code",
   "execution_count": null,
   "metadata": {
    "collapsed": true
   },
   "outputs": [],
   "source": []
  }
 ],
 "metadata": {
  "kernelspec": {
   "display_name": "Python 3",
   "language": "python",
   "name": "python3"
  },
  "language_info": {
   "codemirror_mode": {
    "name": "ipython",
    "version": 3
   },
   "file_extension": ".py",
   "mimetype": "text/x-python",
   "name": "python",
   "nbconvert_exporter": "python",
   "pygments_lexer": "ipython3",
   "version": "3.6.3"
  }
 },
 "nbformat": 4,
 "nbformat_minor": 2
}
