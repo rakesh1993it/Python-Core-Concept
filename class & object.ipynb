{
 "cells": [
  {
   "cell_type": "markdown",
   "metadata": {},
   "source": [
    "# python oops concept"
   ]
  },
  {
   "cell_type": "raw",
   "metadata": {},
   "source": [
    "In this python class blog, you will understand each aspect of classes and objects in the following sequence:\n",
    "\n",
    "    What is a Python Class?\n",
    "    Methods and Attributes in a class\n",
    "    What are Objects?\n",
    "    OOPs Concepts:\n",
    "        Inheritance\n",
    "        Polymorphism\n",
    "        Abstraction\n"
   ]
  },
  {
   "cell_type": "raw",
   "metadata": {},
   "source": [
    "What is a Python Class?\n",
    "\n",
    "A class in python is the blueprint from which specific objects are created. It lets you structure your software in\n",
    "a particular way. Classes allow us to logically group our data and function in a way that \n",
    "it is easy to reuse and a way to build upon if need to be.\n",
    "\n",
    "\n",
    "    1.Class variable is a variable that is shared by all the different objects/instances of a class.\n",
    "    2.Instance variables are variables which are unique to each instance. It is defined inside a method and belongs only      to the current instance of a class.\n",
    "    3.Methods are also called as functions which are defined in a class and describes the behaviour of an object.\n",
    "\n"
   ]
  },
  {
   "cell_type": "code",
   "execution_count": 5,
   "metadata": {},
   "outputs": [
    {
     "name": "stdout",
     "output_type": "stream",
     "text": [
      "rakesh190493it@gmail.com\n",
      "rahul170593@gmail.com\n"
     ]
    }
   ],
   "source": [
    "class employee:\n",
    "    pass\n",
    "emp_1= employee()\n",
    "emp_2 = employee()\n",
    "    \n",
    "emp_1.first_name =\"Rakesh\"\n",
    "emp_1.ast_name = \" Majumder\"\n",
    "emp_1.email=\"rakesh190493it@gmail.com\"\n",
    "emp_1.sall = 1233445\n",
    "\n",
    "emp_2.first_name =\"Rahul\"\n",
    "emp_2.ast_name = \" Majumder\"\n",
    "emp_2.email =\"rahul170593@gmail.com\"\n",
    "emp_2.sall = 1233445\n",
    "    \n",
    "print(emp_1.email)\n",
    "print(emp_2.email)"
   ]
  },
  {
   "cell_type": "raw",
   "metadata": {},
   "source": [
    "functionalities can be defined by setting various attributes which acts as a container for data and functions related\n",
    "to those attributes. Functions in python are also called as Methods. Talking about the init method, it is a special \n",
    "function which gets called whenever a new object of that class is instantiated. You can think of it as initialize method \n",
    "or you can consider this as constructor"
   ]
  },
  {
   "cell_type": "raw",
   "metadata": {},
   "source": [
    "create a class and constructor hich is include first name,last name, salarry, email and print them"
   ]
  },
  {
   "cell_type": "code",
   "execution_count": 15,
   "metadata": {},
   "outputs": [
    {
     "name": "stdout",
     "output_type": "stream",
     "text": [
      "aayushi.johari@company.com\n",
      "test.test@company.com\n",
      "aayushijohari\n",
      "testtest\n"
     ]
    }
   ],
   "source": [
    "class employee:\n",
    "    \n",
    "    def __init__(self, first, last, sal):\n",
    "        self.fname=first\n",
    "        self.lname=last\n",
    "        self.sal=sal\n",
    "        self.email=first + '.' + last + '@company.com'\n",
    " \n",
    "    def fullname(self):\n",
    "            return '{}{}'.format(self.fname,self.lname)\n",
    " \n",
    "emp_1=employee('aayushi','johari',350000)\n",
    "emp_2=employee('test','test',100000)\n",
    "print(emp_1.email)\n",
    "print(emp_2.email)\n",
    "print(emp_1.fullname())\n",
    "print(emp_2.fullname())\n",
    "\n"
   ]
  },
  {
   "cell_type": "code",
   "execution_count": null,
   "metadata": {
    "collapsed": true
   },
   "outputs": [],
   "source": []
  },
  {
   "cell_type": "code",
   "execution_count": 1,
   "metadata": {},
   "outputs": [
    {
     "name": "stdout",
     "output_type": "stream",
     "text": [
      "Kolkata, West Bengal\n"
     ]
    }
   ],
   "source": [
    "# Class for Computer Science Student\n",
    "class CSStudent:\n",
    "     \n",
    "    # Class Variable\n",
    "    stream = 'cse'     \n",
    "     \n",
    "    # The init method or constructor\n",
    "    def __init__(self, roll):\n",
    "         \n",
    "        # Instance Variable\n",
    "        self.roll = roll            \n",
    " \n",
    "    # Adds an instance variable \n",
    "    def setAddress(self, address):\n",
    "        self.address = address\n",
    "     \n",
    "    # Retrieves instance variable    \n",
    "    def getAddress(self):    \n",
    "        return self.address   \n",
    " \n",
    "# Driver Code\n",
    "a = CSStudent(101)\n",
    "a.setAddress(\"Kolkata, West Bengal\")\n",
    "print(a.getAddress()) \n"
   ]
  },
  {
   "cell_type": "code",
   "execution_count": null,
   "metadata": {
    "collapsed": true
   },
   "outputs": [],
   "source": []
  }
 ],
 "metadata": {
  "kernelspec": {
   "display_name": "Python 3",
   "language": "python",
   "name": "python3"
  },
  "language_info": {
   "codemirror_mode": {
    "name": "ipython",
    "version": 3
   },
   "file_extension": ".py",
   "mimetype": "text/x-python",
   "name": "python",
   "nbconvert_exporter": "python",
   "pygments_lexer": "ipython3",
   "version": "3.6.3"
  }
 },
 "nbformat": 4,
 "nbformat_minor": 2
}
