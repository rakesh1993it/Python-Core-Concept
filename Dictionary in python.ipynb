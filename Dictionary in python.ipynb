{
 "cells": [
  {
   "cell_type": "markdown",
   "metadata": {},
   "source": [
    "# Dictionary Data structure in python"
   ]
  },
  {
   "cell_type": "raw",
   "metadata": {},
   "source": [
    "Dictionary is a collection of key-value pairs. Here’s what it looks like:"
   ]
  },
  {
   "cell_type": "code",
   "execution_count": 1,
   "metadata": {},
   "outputs": [
    {
     "name": "stdout",
     "output_type": "stream",
     "text": [
      "My name is Leandro\n",
      "But you can call me Tk\n",
      "And by the way I'm Brazilian\n"
     ]
    }
   ],
   "source": [
    "dictionary_tk = {\n",
    "  \"name\": \"Rakesh\",\n",
    "  \"nickname\": \"Gymbo\",\n",
    "  \"nationality\": \"Indian\"\n",
    "}\n",
    "\n",
    "# print  the Data.\n",
    "print(\"My name is %s\" %(dictionary_tk[\"name\"])) \n",
    "print(\"But you can call me %s\" %(dictionary_tk[\"nickname\"])) \n",
    "print(\"And by the way I'm %s\" %(dictionary_tk[\"nationality\"])) "
   ]
  },
  {
   "cell_type": "raw",
   "metadata": {},
   "source": [
    "Here name, nicname and nationality is the key\n",
    "And corresponding value is Rakesh, Gymbo and Indian"
   ]
  },
  {
   "cell_type": "code",
   "execution_count": 2,
   "metadata": {},
   "outputs": [
    {
     "name": "stdout",
     "output_type": "stream",
     "text": [
      "{'name': 'Leandro', 'nickname': 'Tk', 'nationality': 'Brazilian'}\n"
     ]
    }
   ],
   "source": [
    "#print all data using dictionary name.\n",
    "print(dictionary_tk)"
   ]
  },
  {
   "cell_type": "markdown",
   "metadata": {},
   "source": [
    "# Iteration: Looping Through Data Structures"
   ]
  },
  {
   "cell_type": "raw",
   "metadata": {},
   "source": [
    " Create a Bookself dictionary and iterate through loop\n",
    "\n"
   ]
  },
  {
   "cell_type": "code",
   "execution_count": 6,
   "metadata": {},
   "outputs": [
    {
     "name": "stdout",
     "output_type": "stream",
     "text": [
      "The Effective Engineer\n",
      "The 4 hours work week\n",
      "Zero to One\n",
      "Lean Startup\n",
      "Hooked\n"
     ]
    }
   ],
   "source": [
    "bookself = [\n",
    "  \"The Effective Engineer\",\n",
    "  \"The 4 hours work week\",\n",
    "  \"Zero to One\",\n",
    "  \"Lean Startup\",\n",
    "  \"Hooked\"\n",
    "]\n",
    "\n",
    "for book in bookself:\n",
    "    print(book)\n"
   ]
  },
  {
   "cell_type": "raw",
   "metadata": {},
   "source": [
    "So for each book in the bookshelf, we (can do everything with it) print it. \n",
    "Pretty simple and intuitive. That’s Python.\n",
    "\n",
    "For a hash data structure, we can also use the for loop, but we apply the key :"
   ]
  },
  {
   "cell_type": "raw",
   "metadata": {},
   "source": [
    "We did name the two parameters as key and value, but it is not necessary. We can name them anything. Let’s see it."
   ]
  },
  {
   "cell_type": "code",
   "execution_count": 8,
   "metadata": {},
   "outputs": [
    {
     "name": "stdout",
     "output_type": "stream",
     "text": [
      "My name is Rakesh \n",
      "My nickname is Gymbo \n",
      "My nationality is Indian \n",
      "My age is 25 \n"
     ]
    }
   ],
   "source": [
    "my_dictionary = {\n",
    "  \"name\": \"Rakesh\",\n",
    "  \"nickname\": \"Gymbo\",\n",
    "  \"nationality\": \"Indian\",\n",
    "  \"age\": 25\n",
    "}\n",
    "\n",
    "for key, value in my_dictionary.items():\n",
    "    print('My %s is %s ' %(key, value))"
   ]
  },
  {
   "cell_type": "raw",
   "metadata": {},
   "source": []
  }
 ],
 "metadata": {
  "kernelspec": {
   "display_name": "Python 3",
   "language": "python",
   "name": "python3"
  },
  "language_info": {
   "codemirror_mode": {
    "name": "ipython",
    "version": 3
   },
   "file_extension": ".py",
   "mimetype": "text/x-python",
   "name": "python",
   "nbconvert_exporter": "python",
   "pygments_lexer": "ipython3",
   "version": "3.6.3"
  }
 },
 "nbformat": 4,
 "nbformat_minor": 2
}
