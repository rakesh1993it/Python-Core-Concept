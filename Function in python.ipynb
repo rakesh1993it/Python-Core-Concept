{
 "cells": [
  {
   "cell_type": "markdown",
   "metadata": {},
   "source": [
    "\n",
    "# Function in Python"
   ]
  },
  {
   "cell_type": "markdown",
   "metadata": {},
   "source": [
    "Defining and calling simple functions"
   ]
  },
  {
   "cell_type": "markdown",
   "metadata": {},
   "source": [
    "Using the def statement is the most common way to define a function in python. This statement is a so called single\n",
    "clause compound statement with the following syntax:\n"
   ]
  },
  {
   "cell_type": "code",
   "execution_count": 1,
   "metadata": {},
   "outputs": [
    {
     "name": "stdout",
     "output_type": "stream",
     "text": [
      "Hello\n"
     ]
    }
   ],
   "source": [
    "def greet():\n",
    "    print(\"Hello\")\n",
    "    \n",
    "greet()"
   ]
  },
  {
   "cell_type": "markdown",
   "metadata": {},
   "source": [
    "# Defining a function with an arbitrary number of arguments"
   ]
  },
  {
   "cell_type": "markdown",
   "metadata": {},
   "source": [
    "Defining a function capable of taking an arbitrary number of arguments can be done by prefixing one of the\n",
    "arguments with a *"
   ]
  },
  {
   "cell_type": "code",
   "execution_count": 4,
   "metadata": {},
   "outputs": [
    {
     "name": "stdout",
     "output_type": "stream",
     "text": [
      "1\n",
      "2\n",
      "3\n"
     ]
    }
   ],
   "source": [
    "def func(*args):\n",
    "    # args will be a tuple containing all values that are passed in\n",
    "    for i in args:\n",
    "        print(i)\n",
    "        \n",
    "func(1,2,3)"
   ]
  },
  {
   "cell_type": "code",
   "execution_count": 5,
   "metadata": {},
   "outputs": [
    {
     "name": "stdout",
     "output_type": "stream",
     "text": [
      "1\n",
      "2\n",
      "3\n"
     ]
    }
   ],
   "source": [
    "list_of_arg_values = [1, 2, 3]\n",
    "func(*list_of_arg_values)"
   ]
  },
  {
   "cell_type": "markdown",
   "metadata": {},
   "source": [
    "You can't provide a default for args , for example func(*args=[1, 2, 3]) will raise a syntax error (won't even\n",
    "compile).\n",
    "You can't provide these by name when calling the function, for example func(*args=[1, 2, 3]) will raise a\n",
    "TypeError .\n",
    "But if you already have your arguments in an array (or any other Iterable ), you can invoke your function like this:\n",
    "func(*my_stuff) ."
   ]
  },
  {
   "cell_type": "markdown",
   "metadata": {},
   "source": [
    "# Arbitrary number of keyword arguments\n",
    "You can take an arbitrary number of arguments with a name by defining an argument in the definition with two *\n",
    "in front of it:"
   ]
  },
  {
   "cell_type": "code",
   "execution_count": 6,
   "metadata": {},
   "outputs": [
    {
     "name": "stdout",
     "output_type": "stream",
     "text": [
      "value1 1\n",
      "value2 2\n",
      "value3 3\n"
     ]
    }
   ],
   "source": [
    "def func(**kwargs):\n",
    "    # kwargs will be a dictionary containing the names as keys and the values as values\n",
    "    for name, value in kwargs.items():\n",
    "        print(name, value)\n",
    "        \n",
    "func(value1=1, value2=2, value3=3)"
   ]
  },
  {
   "cell_type": "markdown",
   "metadata": {},
   "source": [
    "# Lambda (Inline/Anonymous) Functions\n",
    "The lambda keyword creates an inline function that contains a single expression. The value of this expression is\n",
    "what the function returns when invoked."
   ]
  },
  {
   "cell_type": "code",
   "execution_count": 10,
   "metadata": {},
   "outputs": [
    {
     "name": "stdout",
     "output_type": "stream",
     "text": [
      "Hello\n"
     ]
    }
   ],
   "source": [
    "#This can be written as a lambda function as follows:\n",
    "greet_me = lambda: \"Hello\"\n",
    "\n",
    "#Note that you don't write return when creating a function with lambda. The value after : is automatically returned.\n",
    "print(greet_me())"
   ]
  },
  {
   "cell_type": "markdown",
   "metadata": {},
   "source": [
    "lambda s can take arguments, too:\n"
   ]
  },
  {
   "cell_type": "code",
   "execution_count": 15,
   "metadata": {},
   "outputs": [
    {
     "data": {
      "text/plain": [
       "'HELLO'"
      ]
     },
     "execution_count": 15,
     "metadata": {},
     "output_type": "execute_result"
    }
   ],
   "source": [
    "strip_and_upper_case = lambda s: s.upper()\n",
    "\n",
    "strip_and_upper_case(\"Hello\")"
   ]
  },
  {
   "cell_type": "code",
   "execution_count": 16,
   "metadata": {},
   "outputs": [
    {
     "name": "stdout",
     "output_type": "stream",
     "text": [
      "hello ('world',) {'world': 'world'}\n"
     ]
    }
   ],
   "source": [
    "#They can also take arbitrary number of arguments / keyword arguments, like normal functions.\n",
    "\n",
    "greeting = lambda x, *args, **kwargs: print(x, args, kwargs)\n",
    "greeting('hello', 'world', world='world')"
   ]
  },
  {
   "cell_type": "markdown",
   "metadata": {},
   "source": [
    "lambda s are commonly used for short functions that are convenient to define at the point where they are called\n",
    "(typically with sorted , filter and map ).\n",
    "For example, this line sorts a list of strings ignoring their case and ignoring whitespace at the beginning and at the\n",
    "end:"
   ]
  },
  {
   "cell_type": "code",
   "execution_count": 17,
   "metadata": {},
   "outputs": [
    {
     "data": {
      "text/plain": [
       "[\"bAR', 'BaZ\", 'BaZ', ' foo ']"
      ]
     },
     "execution_count": 17,
     "metadata": {},
     "output_type": "execute_result"
    }
   ],
   "source": [
    "sorted( [\" foo \", \"bAR', 'BaZ\", \"BaZ\"], key=lambda s: s.strip().upper())"
   ]
  },
  {
   "cell_type": "code",
   "execution_count": 19,
   "metadata": {},
   "outputs": [
    {
     "data": {
      "text/plain": [
       "[1, -2, 3, -4, 5, 7]"
      ]
     },
     "execution_count": 19,
     "metadata": {},
     "output_type": "execute_result"
    }
   ],
   "source": [
    "my_list = [3, -4, -2, 5, 1, 7]\n",
    "sorted( my_list, key=lambda x: abs(x))"
   ]
  },
  {
   "cell_type": "code",
   "execution_count": 20,
   "metadata": {},
   "outputs": [
    {
     "data": {
      "text/plain": [
       "[3, 5, 1, 7]"
      ]
     },
     "execution_count": 20,
     "metadata": {},
     "output_type": "execute_result"
    }
   ],
   "source": [
    "list( filter( lambda x: x>0, my_list))"
   ]
  },
  {
   "cell_type": "code",
   "execution_count": 21,
   "metadata": {},
   "outputs": [
    {
     "name": "stdout",
     "output_type": "stream",
     "text": [
      "hello world\n"
     ]
    }
   ],
   "source": [
    "#One can call other functions (with/without arguments) from inside a lambda function.\n",
    "def foo(msg):\n",
    "    print(msg)\n",
    "    \n",
    "    \n",
    "greet = lambda x = \"hello world\": foo(x)\n",
    "greet()"
   ]
  },
  {
   "cell_type": "markdown",
   "metadata": {},
   "source": [
    "# Defining a function with optional mutable arguments"
   ]
  },
  {
   "cell_type": "code",
   "execution_count": 23,
   "metadata": {},
   "outputs": [
    {
     "name": "stdout",
     "output_type": "stream",
     "text": [
      "(42, [])\n"
     ]
    }
   ],
   "source": [
    "def f(a, b=42, c=[]):\n",
    "    pass\n",
    "\n",
    "print(f.__defaults__)"
   ]
  },
  {
   "cell_type": "code",
   "execution_count": 24,
   "metadata": {},
   "outputs": [
    {
     "data": {
      "text/plain": [
       "[1]"
      ]
     },
     "execution_count": 24,
     "metadata": {},
     "output_type": "execute_result"
    }
   ],
   "source": [
    "def append(elem, to=[]):\n",
    "    to.append(elem)\n",
    "    # This call to append() mutates the default variable \"to\"\n",
    "    return to\n",
    "\n",
    "append(1)"
   ]
  },
  {
   "cell_type": "code",
   "execution_count": 26,
   "metadata": {},
   "outputs": [
    {
     "data": {
      "text/plain": [
       "[1, 2, 3, 4]"
      ]
     },
     "execution_count": 26,
     "metadata": {},
     "output_type": "execute_result"
    }
   ],
   "source": [
    "append(2)\n",
    "append(3)\n",
    "append(4)"
   ]
  },
  {
   "cell_type": "markdown",
   "metadata": {},
   "source": [
    "# Closure\n",
    "Closures in Python are created by function calls. Here, the call to makeInc creates a binding for x that is referenced\n",
    "inside the function inc . Each call to makeInc creates a new instance of this function, but each instance has a link\n",
    "to a different binding of x ."
   ]
  },
  {
   "cell_type": "code",
   "execution_count": 28,
   "metadata": {
    "collapsed": true
   },
   "outputs": [],
   "source": [
    "def makeInc(x):\n",
    "    def inc(y):\n",
    "        # x is \"attached\" in the definition of inc\n",
    "        return y + x\n",
    "    return inc\n",
    "\n",
    "incOne = makeInc(1)\n",
    "incFive = makeInc(5)"
   ]
  },
  {
   "cell_type": "code",
   "execution_count": 31,
   "metadata": {},
   "outputs": [
    {
     "data": {
      "text/plain": [
       "6"
      ]
     },
     "execution_count": 31,
     "metadata": {},
     "output_type": "execute_result"
    }
   ],
   "source": [
    "incOne(5)"
   ]
  },
  {
   "cell_type": "code",
   "execution_count": 32,
   "metadata": {},
   "outputs": [
    {
     "data": {
      "text/plain": [
       "12"
      ]
     },
     "execution_count": 32,
     "metadata": {},
     "output_type": "execute_result"
    }
   ],
   "source": [
    "incFive(7)"
   ]
  },
  {
   "cell_type": "markdown",
   "metadata": {},
   "source": [
    "# Nested functions"
   ]
  },
  {
   "cell_type": "code",
   "execution_count": 35,
   "metadata": {},
   "outputs": [
    {
     "data": {
      "text/plain": [
       "9"
      ]
     },
     "execution_count": 35,
     "metadata": {},
     "output_type": "execute_result"
    }
   ],
   "source": [
    "def make_adder(n):\n",
    "    def adder(x):\n",
    "        return n + x\n",
    "    return adder\n",
    "\n",
    "add5 = make_adder(5)\n",
    "add6 = make_adder(6)\n",
    "\n",
    "add5(4)\n"
   ]
  },
  {
   "cell_type": "code",
   "execution_count": 34,
   "metadata": {},
   "outputs": [
    {
     "data": {
      "text/plain": [
       "10"
      ]
     },
     "execution_count": 34,
     "metadata": {},
     "output_type": "execute_result"
    }
   ],
   "source": [
    "add6(4)"
   ]
  },
  {
   "cell_type": "code",
   "execution_count": 36,
   "metadata": {},
   "outputs": [
    {
     "data": {
      "text/plain": [
       "26"
      ]
     },
     "execution_count": 36,
     "metadata": {},
     "output_type": "execute_result"
    }
   ],
   "source": [
    "def repeatedly_apply(func, n, x):\n",
    "    for i in range(n):\n",
    "        x = func(x)\n",
    "    return x\n",
    "\n",
    "repeatedly_apply(add5, 5, 1)"
   ]
  },
  {
   "cell_type": "markdown",
   "metadata": {},
   "source": [
    "# Recursion limit\n",
    "There is a limit to the depth of possible recursion, which depends on the Python implementation. When the limit is\n",
    "reached, a RuntimeError exception is raised:"
   ]
  },
  {
   "cell_type": "code",
   "execution_count": 37,
   "metadata": {},
   "outputs": [
    {
     "name": "stdout",
     "output_type": "stream",
     "text": [
      "I recursed 1971 times!\n"
     ]
    }
   ],
   "source": [
    "def cursing(depth):\n",
    "    try:\n",
    "        cursing(depth + 1) # actually, re-cursing\n",
    "    except RuntimeError as RE:\n",
    "        print('I recursed {} times!'.format(depth))\n",
    "        \n",
    "cursing(0)"
   ]
  },
  {
   "cell_type": "markdown",
   "metadata": {},
   "source": [
    "It is possible to change the recursion depth limit by using sys.setrecursionlimit(limit) and check this limit by\n",
    "sys.getrecursionlimit() ."
   ]
  },
  {
   "cell_type": "code",
   "execution_count": 41,
   "metadata": {},
   "outputs": [
    {
     "name": "stdout",
     "output_type": "stream",
     "text": [
      "I recursed 71 times!\n"
     ]
    }
   ],
   "source": [
    "import sys\n",
    "sys.setrecursionlimit(100)\n",
    "cursing(0)"
   ]
  },
  {
   "cell_type": "markdown",
   "metadata": {},
   "source": [
    "# Recursive Lambda using assigned variable\n",
    "One method for creating recursive lambda functions involves assigning the function to a variable and then\n",
    "referencing that variable within the function itself. A common example of this is the recursive calculation of the\n",
    "factorial of a number - such as shown in the following code:"
   ]
  },
  {
   "cell_type": "code",
   "execution_count": 43,
   "metadata": {},
   "outputs": [
    {
     "name": "stdout",
     "output_type": "stream",
     "text": [
      "24\n"
     ]
    }
   ],
   "source": [
    "lambda_factorial = lambda i:1 if i==0 else i*lambda_factorial(i-1)\n",
    "print(lambda_factorial(4)) # 4 * 3 * 2 * 1 = 12 * 2 = 24"
   ]
  },
  {
   "cell_type": "markdown",
   "metadata": {},
   "source": [
    "# Iterable and dictionary unpacking\n",
    "Functions allow you to specify these types of parameters: positional, named, variable positional, Keyword args\n",
    "(kwargs). Here is a clear and concise use of each type."
   ]
  },
  {
   "cell_type": "code",
   "execution_count": 44,
   "metadata": {},
   "outputs": [
    {
     "name": "stdout",
     "output_type": "stream",
     "text": [
      "1 2 45 60 () {}\n"
     ]
    }
   ],
   "source": [
    "def unpacking(a, b, c=45, d=60, *args, **kwargs):\n",
    "    print(a, b, c, d, args, kwargs)\n",
    "    \n",
    "unpacking(1,2)\n"
   ]
  },
  {
   "cell_type": "code",
   "execution_count": 45,
   "metadata": {},
   "outputs": [
    {
     "name": "stdout",
     "output_type": "stream",
     "text": [
      "1 2 3 4 () {}\n"
     ]
    }
   ],
   "source": [
    "unpacking(1,2,3,4)"
   ]
  },
  {
   "cell_type": "markdown",
   "metadata": {},
   "source": [
    "# Defining a function with multiple arguments\n",
    "One can give a function as many arguments as one wants, the only fixed rules are that each argument name must\n",
    "be unique and that optional arguments must be after the not-optional ones"
   ]
  },
  {
   "cell_type": "code",
   "execution_count": 53,
   "metadata": {
    "collapsed": true
   },
   "outputs": [],
   "source": [
    "def func(value1, value2, optionalvalue=10):\n",
    "    return '{0} {1} {2}'.format(value1, value2, optionalvalue)"
   ]
  },
  {
   "cell_type": "code",
   "execution_count": 55,
   "metadata": {},
   "outputs": [
    {
     "name": "stdout",
     "output_type": "stream",
     "text": [
      "1 ds 23\n"
     ]
    }
   ],
   "source": [
    "print(func(1,'ds',23))"
   ]
  },
  {
   "cell_type": "code",
   "execution_count": 56,
   "metadata": {},
   "outputs": [
    {
     "name": "stdout",
     "output_type": "stream",
     "text": [
      "abc 14 10\n"
     ]
    }
   ],
   "source": [
    "print(func('abc', 14))"
   ]
  },
  {
   "cell_type": "markdown",
   "metadata": {},
   "source": [
    "# Map Function\n",
    "Map takes a function and a collection of items. It makes a new, empty collection, runs the function on each item in\n",
    "the original collection and inserts each return value into the new collection. It returns the new collection.\n",
    "This is a simple map that takes a list of names and returns a list of the lengths of those names:"
   ]
  },
  {
   "cell_type": "code",
   "execution_count": 66,
   "metadata": {},
   "outputs": [
    {
     "name": "stdout",
     "output_type": "stream",
     "text": [
      "<map object at 0x7fbc902364e0>\n"
     ]
    }
   ],
   "source": [
    "from collections import *\n",
    "name_lengths = map(len, [\"Mary\", \"Isla\", \"Sam\"])\n",
    "print(name_lengths)"
   ]
  },
  {
   "cell_type": "markdown",
   "metadata": {},
   "source": [
    "# Reduce Function\n",
    "Reduce takes a function and a collection of items. It returns a value that is created by combining the items."
   ]
  },
  {
   "cell_type": "code",
   "execution_count": 67,
   "metadata": {},
   "outputs": [
    {
     "ename": "NameError",
     "evalue": "name 'reduce' is not defined",
     "output_type": "error",
     "traceback": [
      "\u001b[0;31m---------------------------------------------------------------------------\u001b[0m",
      "\u001b[0;31mNameError\u001b[0m                                 Traceback (most recent call last)",
      "\u001b[0;32m<ipython-input-67-d76cb9af5a4a>\u001b[0m in \u001b[0;36m<module>\u001b[0;34m()\u001b[0m\n\u001b[0;32m----> 1\u001b[0;31m \u001b[0mtotal\u001b[0m \u001b[0;34m=\u001b[0m \u001b[0mreduce\u001b[0m\u001b[0;34m(\u001b[0m\u001b[0;32mlambda\u001b[0m \u001b[0ma\u001b[0m\u001b[0;34m,\u001b[0m \u001b[0mx\u001b[0m\u001b[0;34m:\u001b[0m \u001b[0ma\u001b[0m \u001b[0;34m+\u001b[0m \u001b[0mx\u001b[0m\u001b[0;34m,\u001b[0m \u001b[0;34m[\u001b[0m\u001b[0;36m0\u001b[0m\u001b[0;34m,\u001b[0m \u001b[0;36m1\u001b[0m\u001b[0;34m,\u001b[0m \u001b[0;36m2\u001b[0m\u001b[0;34m,\u001b[0m \u001b[0;36m3\u001b[0m\u001b[0;34m,\u001b[0m \u001b[0;36m4\u001b[0m\u001b[0;34m]\u001b[0m\u001b[0;34m)\u001b[0m\u001b[0;34m\u001b[0m\u001b[0m\n\u001b[0m\u001b[1;32m      2\u001b[0m \u001b[0mprint\u001b[0m\u001b[0;34m(\u001b[0m\u001b[0mtotal\u001b[0m\u001b[0;34m)\u001b[0m\u001b[0;34m\u001b[0m\u001b[0m\n",
      "\u001b[0;31mNameError\u001b[0m: name 'reduce' is not defined"
     ]
    }
   ],
   "source": [
    "total = reduce(lambda a, x: a + x, [0, 1, 2, 3, 4])\n",
    "print(total)"
   ]
  },
  {
   "cell_type": "code",
   "execution_count": null,
   "metadata": {
    "collapsed": true
   },
   "outputs": [],
   "source": []
  }
 ],
 "metadata": {
  "kernelspec": {
   "display_name": "Python 3",
   "language": "python",
   "name": "python3"
  },
  "language_info": {
   "codemirror_mode": {
    "name": "ipython",
    "version": 3
   },
   "file_extension": ".py",
   "mimetype": "text/x-python",
   "name": "python",
   "nbconvert_exporter": "python",
   "pygments_lexer": "ipython3",
   "version": "3.6.3"
  }
 },
 "nbformat": 4,
 "nbformat_minor": 2
}
